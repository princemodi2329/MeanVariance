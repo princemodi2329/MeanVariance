{
 "cells": [
  {
   "cell_type": "markdown",
   "metadata": {},
   "source": [
    "Python Version: 2.7\n",
    "    \n",
    "Description: Portfolio Allocation in stocks using Mean-Variance.\n",
    "Mean-variance analysis is the process of weighing risk, expressed as variance, against expected return. Investors use mean-variance analysis to make decisions about which financial instruments to invest in, based on how much risk they are willing to take on in exchange for different levels of reward."
   ]
  },
  {
   "cell_type": "markdown",
   "metadata": {},
   "source": [
    "Import Packages and set Quandl API Key. You can get this key by creating an Quandl Account."
   ]
  },
  {
   "cell_type": "code",
   "execution_count": 21,
   "metadata": {},
   "outputs": [],
   "source": [
    "import numpy as np\n",
    "import pandas as pd\n",
    "from scipy.optimize import minimize\n",
    "\n",
    "import quandl\n",
    "quandl.ApiConfig.api_key = \"Dypz-FGFn7umZ1vbpy5B\""
   ]
  },
  {
   "cell_type": "markdown",
   "metadata": {},
   "source": [
    "Download Stock Data.\n",
    "\n",
    "We will be downloading data for Apple, Ford, Tesla, Microsoft and Amazon.\n",
    "\n",
    "After downloading the data, we will loop through them and store them in stock_prices dataframe"
   ]
  },
  {
   "cell_type": "code",
   "execution_count": 22,
   "metadata": {},
   "outputs": [
    {
     "data": {
      "text/html": [
       "<div>\n",
       "<style scoped>\n",
       "    .dataframe tbody tr th:only-of-type {\n",
       "        vertical-align: middle;\n",
       "    }\n",
       "\n",
       "    .dataframe tbody tr th {\n",
       "        vertical-align: top;\n",
       "    }\n",
       "\n",
       "    .dataframe thead th {\n",
       "        text-align: right;\n",
       "    }\n",
       "</style>\n",
       "<table border=\"1\" class=\"dataframe\">\n",
       "  <thead>\n",
       "    <tr style=\"text-align: right;\">\n",
       "      <th></th>\n",
       "      <th>AAPL</th>\n",
       "      <th>F</th>\n",
       "      <th>TSLA</th>\n",
       "      <th>MSFT</th>\n",
       "      <th>AMZN</th>\n",
       "    </tr>\n",
       "    <tr>\n",
       "      <th>Date</th>\n",
       "      <th></th>\n",
       "      <th></th>\n",
       "      <th></th>\n",
       "      <th></th>\n",
       "      <th></th>\n",
       "    </tr>\n",
       "  </thead>\n",
       "  <tbody>\n",
       "    <tr>\n",
       "      <th>2012-01-03</th>\n",
       "      <td>52.848787</td>\n",
       "      <td>8.772734</td>\n",
       "      <td>28.08</td>\n",
       "      <td>22.792249</td>\n",
       "      <td>179.03</td>\n",
       "    </tr>\n",
       "    <tr>\n",
       "      <th>2012-01-04</th>\n",
       "      <td>53.132802</td>\n",
       "      <td>8.906729</td>\n",
       "      <td>27.71</td>\n",
       "      <td>23.332995</td>\n",
       "      <td>177.51</td>\n",
       "    </tr>\n",
       "    <tr>\n",
       "      <th>2012-01-05</th>\n",
       "      <td>53.722681</td>\n",
       "      <td>9.135309</td>\n",
       "      <td>27.12</td>\n",
       "      <td>23.571435</td>\n",
       "      <td>177.61</td>\n",
       "    </tr>\n",
       "    <tr>\n",
       "      <th>2012-01-06</th>\n",
       "      <td>54.284287</td>\n",
       "      <td>9.229893</td>\n",
       "      <td>26.91</td>\n",
       "      <td>23.933352</td>\n",
       "      <td>182.61</td>\n",
       "    </tr>\n",
       "    <tr>\n",
       "      <th>2012-01-09</th>\n",
       "      <td>54.198183</td>\n",
       "      <td>9.300832</td>\n",
       "      <td>27.25</td>\n",
       "      <td>23.622529</td>\n",
       "      <td>178.56</td>\n",
       "    </tr>\n",
       "  </tbody>\n",
       "</table>\n",
       "</div>"
      ],
      "text/plain": [
       "                 AAPL         F   TSLA       MSFT    AMZN\n",
       "Date                                                     \n",
       "2012-01-03  52.848787  8.772734  28.08  22.792249  179.03\n",
       "2012-01-04  53.132802  8.906729  27.71  23.332995  177.51\n",
       "2012-01-05  53.722681  9.135309  27.12  23.571435  177.61\n",
       "2012-01-06  54.284287  9.229893  26.91  23.933352  182.61\n",
       "2012-01-09  54.198183  9.300832  27.25  23.622529  178.56"
      ]
     },
     "execution_count": 22,
     "metadata": {},
     "output_type": "execute_result"
    }
   ],
   "source": [
    "stocks = ['AAPL','F','TSLA','MSFT','AMZN']\n",
    "          \n",
    "stock_prices = pd.DataFrame()\n",
    "\n",
    "for stock in stocks:\n",
    "    new_stock = quandl.get('WIKI/'+stock,\n",
    "    start_date=\"2012-01-01\")['Adj. Close']\n",
    "    stock_prices[stock] = new_stock\n",
    "    \n",
    "stock_prices.head(5)"
   ]
  },
  {
   "cell_type": "markdown",
   "metadata": {},
   "source": [
    "Separate the data into train and test set. The test set will be used to compute the equity curve for the weights generated."
   ]
  },
  {
   "cell_type": "code",
   "execution_count": 23,
   "metadata": {},
   "outputs": [],
   "source": [
    "train = stock_prices[stock_prices.index < '2017-01-01']\n",
    "test = stock_prices[stock_prices.index >= '2017-01-01']"
   ]
  },
  {
   "cell_type": "markdown",
   "metadata": {},
   "source": [
    "We have downloaded prices, but the Mean-Variance technique require Returns in percentage form. Lets convert the prices to percentage form. \n",
    "\n",
    "Formula for Returns: (Todays Return = Todays Price - Yesterdays Price) / Yesterdays Price\n",
    "\n",
    "As the first day will not contain any returns, we will remove it."
   ]
  },
  {
   "cell_type": "code",
   "execution_count": 24,
   "metadata": {},
   "outputs": [
    {
     "data": {
      "text/html": [
       "<div>\n",
       "<style scoped>\n",
       "    .dataframe tbody tr th:only-of-type {\n",
       "        vertical-align: middle;\n",
       "    }\n",
       "\n",
       "    .dataframe tbody tr th {\n",
       "        vertical-align: top;\n",
       "    }\n",
       "\n",
       "    .dataframe thead th {\n",
       "        text-align: right;\n",
       "    }\n",
       "</style>\n",
       "<table border=\"1\" class=\"dataframe\">\n",
       "  <thead>\n",
       "    <tr style=\"text-align: right;\">\n",
       "      <th></th>\n",
       "      <th>AAPL</th>\n",
       "      <th>F</th>\n",
       "      <th>TSLA</th>\n",
       "      <th>MSFT</th>\n",
       "      <th>AMZN</th>\n",
       "    </tr>\n",
       "    <tr>\n",
       "      <th>Date</th>\n",
       "      <th></th>\n",
       "      <th></th>\n",
       "      <th></th>\n",
       "      <th></th>\n",
       "      <th></th>\n",
       "    </tr>\n",
       "  </thead>\n",
       "  <tbody>\n",
       "    <tr>\n",
       "      <th>2012-01-04</th>\n",
       "      <td>1.005374</td>\n",
       "      <td>1.015274</td>\n",
       "      <td>0.986823</td>\n",
       "      <td>1.023725</td>\n",
       "      <td>0.991510</td>\n",
       "    </tr>\n",
       "    <tr>\n",
       "      <th>2012-01-05</th>\n",
       "      <td>1.011102</td>\n",
       "      <td>1.025664</td>\n",
       "      <td>0.978708</td>\n",
       "      <td>1.010219</td>\n",
       "      <td>1.000563</td>\n",
       "    </tr>\n",
       "    <tr>\n",
       "      <th>2012-01-06</th>\n",
       "      <td>1.010454</td>\n",
       "      <td>1.010354</td>\n",
       "      <td>0.992257</td>\n",
       "      <td>1.015354</td>\n",
       "      <td>1.028152</td>\n",
       "    </tr>\n",
       "    <tr>\n",
       "      <th>2012-01-09</th>\n",
       "      <td>0.998414</td>\n",
       "      <td>1.007686</td>\n",
       "      <td>1.012635</td>\n",
       "      <td>0.987013</td>\n",
       "      <td>0.977822</td>\n",
       "    </tr>\n",
       "    <tr>\n",
       "      <th>2012-01-10</th>\n",
       "      <td>1.003580</td>\n",
       "      <td>1.000000</td>\n",
       "      <td>1.013578</td>\n",
       "      <td>1.003605</td>\n",
       "      <td>1.004368</td>\n",
       "    </tr>\n",
       "  </tbody>\n",
       "</table>\n",
       "</div>"
      ],
      "text/plain": [
       "                AAPL         F      TSLA      MSFT      AMZN\n",
       "Date                                                        \n",
       "2012-01-04  1.005374  1.015274  0.986823  1.023725  0.991510\n",
       "2012-01-05  1.011102  1.025664  0.978708  1.010219  1.000563\n",
       "2012-01-06  1.010454  1.010354  0.992257  1.015354  1.028152\n",
       "2012-01-09  0.998414  1.007686  1.012635  0.987013  0.977822\n",
       "2012-01-10  1.003580  1.000000  1.013578  1.003605  1.004368"
      ]
     },
     "execution_count": 24,
     "metadata": {},
     "output_type": "execute_result"
    }
   ],
   "source": [
    "returns = train.pct_change()\n",
    "returns = returns.iloc[1:] \n",
    "returns = returns + 1\n",
    "returns.head(5)"
   ]
  },
  {
   "cell_type": "markdown",
   "metadata": {},
   "source": [
    "Initialize Parameters:\n",
    "    \n",
    "We want the sum of all weights to be 1 and all the weights to be positive. \n",
    "\n",
    "We are aiming for 12% yearly return"
   ]
  },
  {
   "cell_type": "code",
   "execution_count": 25,
   "metadata": {},
   "outputs": [],
   "source": [
    "# Mean return for each stock (in array)\n",
    "r = np.array(np.mean(returns, axis=0))\n",
    "\n",
    "# Covariance matrix between stocks (in array)\n",
    "S = np.array(returns.cov())\n",
    "\n",
    "# Vector of 1's equal in length to r\n",
    "e = np.ones(len(r))\n",
    "\n",
    "# Set the projected mean return for the portfolio\n",
    "mu = 1+(0.12/252) # 12% rate annually per day"
   ]
  },
  {
   "cell_type": "markdown",
   "metadata": {},
   "source": [
    "Initializing random initial weights for the portfolios"
   ]
  },
  {
   "cell_type": "code",
   "execution_count": 26,
   "metadata": {},
   "outputs": [],
   "source": [
    "def objective(w):\n",
    "    return np.matmul(np.matmul(w,S),w)\n",
    "\n",
    "# Set initial weight values\n",
    "w = np.random.random(len(r))"
   ]
  },
  {
   "cell_type": "code",
   "execution_count": 27,
   "metadata": {},
   "outputs": [],
   "source": [
    "# Define Constraints\n",
    "const = ({'type' : 'ineq' , 'fun' : lambda w: np.dot(w,r) - mu}, # returns - mu >= 0\n",
    "         {'type' : 'eq' , 'fun' : lambda w: np.dot(w,e) - 1})    # sum(w) - 1 = 0\n",
    "\n",
    "# Create Bounds\n",
    "# Creates a tuple of tuples to pass to minimize\n",
    "# to ensure all weights are betwen [0, 1]\n",
    "non_neg = []\n",
    "for i in range(len(r)):\n",
    "    non_neg.append((0,1))\n",
    "non_neg = tuple(non_neg)"
   ]
  },
  {
   "cell_type": "markdown",
   "metadata": {},
   "source": [
    "The next block of code will run the Linear Solver. The weights are stored in solution.x\n",
    "Not necessary all the stocks will get weights. "
   ]
  },
  {
   "cell_type": "code",
   "execution_count": 28,
   "metadata": {},
   "outputs": [
    {
     "name": "stdout",
     "output_type": "stream",
     "text": [
      "[0.211937 0.168888 0.065491 0.442036 0.111648]\n",
      "0.9999999999999999\n",
      "['AAPL', 'F', 'TSLA', 'MSFT', 'AMZN']\n"
     ]
    }
   ],
   "source": [
    "# Run optimization with SLSQP solver\n",
    "solution = minimize(fun=objective, x0=w, method='SLSQP',constraints=const,bounds=non_neg)\n",
    "w = solution.x.round(6)\n",
    "print w\n",
    "print w.sum()\n",
    "print list(returns.columns[w > 0.0])"
   ]
  },
  {
   "cell_type": "code",
   "execution_count": 29,
   "metadata": {},
   "outputs": [],
   "source": [
    "# Invest $100,000 on Jan. 1st 2017\n",
    "num_shares = w * 100000 / test.iloc[0,]\n",
    "np.dot(num_shares, test.iloc[0,])\n",
    "portfolio_equity = test.dot(num_shares)"
   ]
  },
  {
   "cell_type": "code",
   "execution_count": 30,
   "metadata": {},
   "outputs": [
    {
     "data": {
      "text/plain": [
       "<matplotlib.axes._subplots.AxesSubplot at 0x123b5acd0>"
      ]
     },
     "execution_count": 30,
     "metadata": {},
     "output_type": "execute_result"
    },
    {
     "data": {
      "image/png": "[encoded data removed]",
      "text/plain": [
       "<Figure size 432x288 with 1 Axes>"
      ]
     },
     "metadata": {
      "needs_background": "light"
     },
     "output_type": "display_data"
    }
   ],
   "source": [
    "portfolio = pd.DataFrame({'Portfolio_Equity' : portfolio_equity})\n",
    "%matplotlib inline\n",
    "portfolio.plot(kind='line')"
   ]
  },
  {
   "cell_type": "code",
   "execution_count": null,
   "metadata": {},
   "outputs": [],
   "source": []
  }
 ],
 "metadata": {
  "kernelspec": {
   "display_name": "Python 2",
   "language": "python",
   "name": "python2"
  },
  "language_info": {
   "codemirror_mode": {
    "name": "ipython",
    "version": 2
   },
   "file_extension": ".py",
   "mimetype": "text/x-python",
   "name": "python",
   "nbconvert_exporter": "python",
   "pygments_lexer": "ipython2",
   "version": "2.7.16"
  }
 },
 "nbformat": 4,
 "nbformat_minor": 2
}
